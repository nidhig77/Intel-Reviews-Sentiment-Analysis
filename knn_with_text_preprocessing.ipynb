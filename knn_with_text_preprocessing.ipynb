{
 "cells": [
  {
   "cell_type": "code",
   "execution_count": 17,
   "id": "48aea2f0-bace-4508-b577-d0d2a5191ee4",
   "metadata": {},
   "outputs": [],
   "source": [
    "import pandas as pd\n",
    "import numpy as np\n",
    "from nltk.corpus import stopwords\n",
    "import re"
   ]
  },
  {
   "cell_type": "code",
   "execution_count": 18,
   "id": "98dbfdd6-e215-4f1e-b749-4718421e8be2",
   "metadata": {},
   "outputs": [],
   "source": [
    "df= pd.read_csv('latest_preprocessed_data.csv')"
   ]
  },
  {
   "cell_type": "code",
   "execution_count": 19,
   "id": "a83960ab-4594-48d9-b089-67778093d4ae",
   "metadata": {},
   "outputs": [],
   "source": [
    "#removing stop words\n",
    "def remove_stopwords (text):\n",
    "    new_text = []\n",
    "    for word in text.split():\n",
    "        if word in stopwords.words('english'): new_text.append('')\n",
    "        else:\n",
    "            new_text.append(word)\n",
    "    x = new_text[:]\n",
    "    new_text.clear()\n",
    "    return \" \".join(x)\n",
    "\n",
    "a=df['trans_review'].apply(remove_stopwords)"
   ]
  },
  {
   "cell_type": "code",
   "execution_count": 20,
   "id": "038ef36f-a5ba-4e57-81f8-5f845784b7b8",
   "metadata": {},
   "outputs": [
    {
     "data": {
      "text/plain": [
       "'good surprise   power   processor   monster  power crucial point  heats  lot    put  aio  420mm  correctly cool  processor second point  consumes  lot  always   possibility  paying  maximum  125 watts   bios  deal   loss  4 8 perf honestly     gamer     need raw power turn   i5   make  trick'"
      ]
     },
     "execution_count": 20,
     "metadata": {},
     "output_type": "execute_result"
    }
   ],
   "source": [
    "a[6]"
   ]
  },
  {
   "cell_type": "code",
   "execution_count": 21,
   "id": "32e9ac2d-e52d-482e-b439-b04160583473",
   "metadata": {},
   "outputs": [],
   "source": [
    "#handling emojis , romving them \n",
    "import re\n",
    "def remove_emoji(text):\n",
    "    emoji_pattern = re.compile(\"[\"\n",
    "    u\"\\U0001F600-\\U0001F64F\" # emoticons\n",
    "    u\"\\U0001F300-\\U0001F5FF\" # symbols & pictographs\n",
    "    u\"\\U0001F680-\\U0001F6FF\" # transport & map symbols\n",
    "    u\"\\U0001F1E0-\\U0001F1FF\" # flags (10S)\n",
    "    u\"\\U00002702-\\U000027B0\"\n",
    "    u\"\\U000024C2-\\U0001F251\"\n",
    "    \"]+\", flags=re.UNICODE)\n",
    "    return emoji_pattern.sub(r'', text)\n",
    "a=a.apply(remove_emoji)"
   ]
  },
  {
   "cell_type": "code",
   "execution_count": 22,
   "id": "ae5c3b33-c2cc-4b23-a26a-d3f5725b4fc0",
   "metadata": {},
   "outputs": [
    {
     "data": {
      "text/plain": [
       "0       upgraded super happy performance able achieve ...\n",
       "1       liked price also liked performance rather purc...\n",
       "2       good processor gives able play perform office ...\n",
       "3                       early anything expected satisfied\n",
       "4                                  good decision computer\n",
       "                              ...                        \n",
       "1473    overall intel great work station however serie...\n",
       "1474    written couple dozen reviews amazon second neg...\n",
       "1475                             great cpu gaming regrets\n",
       "1476                                                great\n",
       "1477    system booted fine ram sticks installed appear...\n",
       "Name: trans_review, Length: 1478, dtype: object"
      ]
     },
     "execution_count": 22,
     "metadata": {},
     "output_type": "execute_result"
    }
   ],
   "source": [
    "#removing the words which have numbers in them\n",
    "def remove_words_with_numbers(input_string):\n",
    "    # Split the input string into words\n",
    "    words = input_string.split()\n",
    "\n",
    "    # Filter out words containing numbers\n",
    "    filtered_words = [word for word in words if not re.search(r'\\d', word)]\n",
    "\n",
    "    # Join the filtered words back into a string\n",
    "    result = ' '.join(filtered_words)\n",
    "    return result\n",
    "a=a.apply(remove_words_with_numbers)\n",
    "a"
   ]
  },
  {
   "cell_type": "code",
   "execution_count": 39,
   "id": "fba2a0a9-ec83-4f7c-b8ff-c4cbdf736908",
   "metadata": {},
   "outputs": [],
   "source": [
    "#tokenizing the text then applying lemmatization\n",
    "from nltk.stem import WordNetLemmatizer\n",
    "wordnetlemmatizer =WordNetLemmatizer()\n",
    "def tokenize_lemmatize(text):\n",
    "    tokenized_list = text.split(\" \")\n",
    "    lemmatized_list = [wordnetlemmatizer.lemmatize(word) for word in tokenized_list]\n",
    "    return lemmatized_list\n",
    "b=a.apply(tokenize_lemmatize)\n"
   ]
  },
  {
   "cell_type": "code",
   "execution_count": 40,
   "id": "77a74f0a-eb5b-4459-bbbe-93ec5b0c9d18",
   "metadata": {},
   "outputs": [
    {
     "data": {
      "text/plain": [
       "0       upgraded super happy performance able achieve ...\n",
       "1       liked price also liked performance rather purc...\n",
       "2       good processor give able play perform office w...\n",
       "3                       early anything expected satisfied\n",
       "4                                  good decision computer\n",
       "                              ...                        \n",
       "1473    overall intel great work station however serie...\n",
       "1474    written couple dozen review amazon second nega...\n",
       "1475                              great cpu gaming regret\n",
       "1476                                                great\n",
       "1477    system booted fine ram stick installed appeare...\n",
       "Name: trans_review, Length: 1478, dtype: object"
      ]
     },
     "execution_count": 40,
     "metadata": {},
     "output_type": "execute_result"
    }
   ],
   "source": [
    "#removing all the words which has its lenght less than 3 and more than 20\n",
    "def filter_words(word_list):\n",
    "    word_list= [word for word in word_list if 3 <= len(word) <= 20]\n",
    "    return  ' '.join(word_list)\n",
    "b=b.apply(filter_words)\n",
    "b"
   ]
  },
  {
   "cell_type": "code",
   "execution_count": 43,
   "id": "5c25e76b-c50d-4583-8a0d-6ce14fdca7a1",
   "metadata": {},
   "outputs": [],
   "source": [
    "#k means clustering to form clusters of the review sentiments\n",
    "from sklearn.feature_extraction.text import TfidfVectorizer\n",
    "from sklearn.cluster import KMeans\n",
    "documents = b.values.astype(\"U\")\n",
    "vectorizer = TfidfVectorizer(stop_words='english')\n",
    "features = vectorizer.fit_transform(documents) #extracting features from the data"
   ]
  },
  {
   "cell_type": "code",
   "execution_count": 44,
   "id": "3cc05064-0e55-4297-aa63-6a89f5fd2fcf",
   "metadata": {},
   "outputs": [
    {
     "data": {
      "text/plain": [
       "<1478x4475 sparse matrix of type '<class 'numpy.float64'>'\n",
       "\twith 28481 stored elements in Compressed Sparse Row format>"
      ]
     },
     "execution_count": 44,
     "metadata": {},
     "output_type": "execute_result"
    }
   ],
   "source": [
    "features"
   ]
  },
  {
   "cell_type": "code",
   "execution_count": 48,
   "id": "be332017-6604-432d-ae83-9e433236a04a",
   "metadata": {},
   "outputs": [
    {
     "data": {
      "text/html": [
       "<style>#sk-container-id-1 {\n",
       "  /* Definition of color scheme common for light and dark mode */\n",
       "  --sklearn-color-text: black;\n",
       "  --sklearn-color-line: gray;\n",
       "  /* Definition of color scheme for unfitted estimators */\n",
       "  --sklearn-color-unfitted-level-0: #fff5e6;\n",
       "  --sklearn-color-unfitted-level-1: #f6e4d2;\n",
       "  --sklearn-color-unfitted-level-2: #ffe0b3;\n",
       "  --sklearn-color-unfitted-level-3: chocolate;\n",
       "  /* Definition of color scheme for fitted estimators */\n",
       "  --sklearn-color-fitted-level-0: #f0f8ff;\n",
       "  --sklearn-color-fitted-level-1: #d4ebff;\n",
       "  --sklearn-color-fitted-level-2: #b3dbfd;\n",
       "  --sklearn-color-fitted-level-3: cornflowerblue;\n",
       "\n",
       "  /* Specific color for light theme */\n",
       "  --sklearn-color-text-on-default-background: var(--sg-text-color, var(--theme-code-foreground, var(--jp-content-font-color1, black)));\n",
       "  --sklearn-color-background: var(--sg-background-color, var(--theme-background, var(--jp-layout-color0, white)));\n",
       "  --sklearn-color-border-box: var(--sg-text-color, var(--theme-code-foreground, var(--jp-content-font-color1, black)));\n",
       "  --sklearn-color-icon: #696969;\n",
       "\n",
       "  @media (prefers-color-scheme: dark) {\n",
       "    /* Redefinition of color scheme for dark theme */\n",
       "    --sklearn-color-text-on-default-background: var(--sg-text-color, var(--theme-code-foreground, var(--jp-content-font-color1, white)));\n",
       "    --sklearn-color-background: var(--sg-background-color, var(--theme-background, var(--jp-layout-color0, #111)));\n",
       "    --sklearn-color-border-box: var(--sg-text-color, var(--theme-code-foreground, var(--jp-content-font-color1, white)));\n",
       "    --sklearn-color-icon: #878787;\n",
       "  }\n",
       "}\n",
       "\n",
       "#sk-container-id-1 {\n",
       "  color: var(--sklearn-color-text);\n",
       "}\n",
       "\n",
       "#sk-container-id-1 pre {\n",
       "  padding: 0;\n",
       "}\n",
       "\n",
       "#sk-container-id-1 input.sk-hidden--visually {\n",
       "  border: 0;\n",
       "  clip: rect(1px 1px 1px 1px);\n",
       "  clip: rect(1px, 1px, 1px, 1px);\n",
       "  height: 1px;\n",
       "  margin: -1px;\n",
       "  overflow: hidden;\n",
       "  padding: 0;\n",
       "  position: absolute;\n",
       "  width: 1px;\n",
       "}\n",
       "\n",
       "#sk-container-id-1 div.sk-dashed-wrapped {\n",
       "  border: 1px dashed var(--sklearn-color-line);\n",
       "  margin: 0 0.4em 0.5em 0.4em;\n",
       "  box-sizing: border-box;\n",
       "  padding-bottom: 0.4em;\n",
       "  background-color: var(--sklearn-color-background);\n",
       "}\n",
       "\n",
       "#sk-container-id-1 div.sk-container {\n",
       "  /* jupyter's `normalize.less` sets `[hidden] { display: none; }`\n",
       "     but bootstrap.min.css set `[hidden] { display: none !important; }`\n",
       "     so we also need the `!important` here to be able to override the\n",
       "     default hidden behavior on the sphinx rendered scikit-learn.org.\n",
       "     See: https://github.com/scikit-learn/scikit-learn/issues/21755 */\n",
       "  display: inline-block !important;\n",
       "  position: relative;\n",
       "}\n",
       "\n",
       "#sk-container-id-1 div.sk-text-repr-fallback {\n",
       "  display: none;\n",
       "}\n",
       "\n",
       "div.sk-parallel-item,\n",
       "div.sk-serial,\n",
       "div.sk-item {\n",
       "  /* draw centered vertical line to link estimators */\n",
       "  background-image: linear-gradient(var(--sklearn-color-text-on-default-background), var(--sklearn-color-text-on-default-background));\n",
       "  background-size: 2px 100%;\n",
       "  background-repeat: no-repeat;\n",
       "  background-position: center center;\n",
       "}\n",
       "\n",
       "/* Parallel-specific style estimator block */\n",
       "\n",
       "#sk-container-id-1 div.sk-parallel-item::after {\n",
       "  content: \"\";\n",
       "  width: 100%;\n",
       "  border-bottom: 2px solid var(--sklearn-color-text-on-default-background);\n",
       "  flex-grow: 1;\n",
       "}\n",
       "\n",
       "#sk-container-id-1 div.sk-parallel {\n",
       "  display: flex;\n",
       "  align-items: stretch;\n",
       "  justify-content: center;\n",
       "  background-color: var(--sklearn-color-background);\n",
       "  position: relative;\n",
       "}\n",
       "\n",
       "#sk-container-id-1 div.sk-parallel-item {\n",
       "  display: flex;\n",
       "  flex-direction: column;\n",
       "}\n",
       "\n",
       "#sk-container-id-1 div.sk-parallel-item:first-child::after {\n",
       "  align-self: flex-end;\n",
       "  width: 50%;\n",
       "}\n",
       "\n",
       "#sk-container-id-1 div.sk-parallel-item:last-child::after {\n",
       "  align-self: flex-start;\n",
       "  width: 50%;\n",
       "}\n",
       "\n",
       "#sk-container-id-1 div.sk-parallel-item:only-child::after {\n",
       "  width: 0;\n",
       "}\n",
       "\n",
       "/* Serial-specific style estimator block */\n",
       "\n",
       "#sk-container-id-1 div.sk-serial {\n",
       "  display: flex;\n",
       "  flex-direction: column;\n",
       "  align-items: center;\n",
       "  background-color: var(--sklearn-color-background);\n",
       "  padding-right: 1em;\n",
       "  padding-left: 1em;\n",
       "}\n",
       "\n",
       "\n",
       "/* Toggleable style: style used for estimator/Pipeline/ColumnTransformer box that is\n",
       "clickable and can be expanded/collapsed.\n",
       "- Pipeline and ColumnTransformer use this feature and define the default style\n",
       "- Estimators will overwrite some part of the style using the `sk-estimator` class\n",
       "*/\n",
       "\n",
       "/* Pipeline and ColumnTransformer style (default) */\n",
       "\n",
       "#sk-container-id-1 div.sk-toggleable {\n",
       "  /* Default theme specific background. It is overwritten whether we have a\n",
       "  specific estimator or a Pipeline/ColumnTransformer */\n",
       "  background-color: var(--sklearn-color-background);\n",
       "}\n",
       "\n",
       "/* Toggleable label */\n",
       "#sk-container-id-1 label.sk-toggleable__label {\n",
       "  cursor: pointer;\n",
       "  display: block;\n",
       "  width: 100%;\n",
       "  margin-bottom: 0;\n",
       "  padding: 0.5em;\n",
       "  box-sizing: border-box;\n",
       "  text-align: center;\n",
       "}\n",
       "\n",
       "#sk-container-id-1 label.sk-toggleable__label-arrow:before {\n",
       "  /* Arrow on the left of the label */\n",
       "  content: \"▸\";\n",
       "  float: left;\n",
       "  margin-right: 0.25em;\n",
       "  color: var(--sklearn-color-icon);\n",
       "}\n",
       "\n",
       "#sk-container-id-1 label.sk-toggleable__label-arrow:hover:before {\n",
       "  color: var(--sklearn-color-text);\n",
       "}\n",
       "\n",
       "/* Toggleable content - dropdown */\n",
       "\n",
       "#sk-container-id-1 div.sk-toggleable__content {\n",
       "  max-height: 0;\n",
       "  max-width: 0;\n",
       "  overflow: hidden;\n",
       "  text-align: left;\n",
       "  /* unfitted */\n",
       "  background-color: var(--sklearn-color-unfitted-level-0);\n",
       "}\n",
       "\n",
       "#sk-container-id-1 div.sk-toggleable__content.fitted {\n",
       "  /* fitted */\n",
       "  background-color: var(--sklearn-color-fitted-level-0);\n",
       "}\n",
       "\n",
       "#sk-container-id-1 div.sk-toggleable__content pre {\n",
       "  margin: 0.2em;\n",
       "  border-radius: 0.25em;\n",
       "  color: var(--sklearn-color-text);\n",
       "  /* unfitted */\n",
       "  background-color: var(--sklearn-color-unfitted-level-0);\n",
       "}\n",
       "\n",
       "#sk-container-id-1 div.sk-toggleable__content.fitted pre {\n",
       "  /* unfitted */\n",
       "  background-color: var(--sklearn-color-fitted-level-0);\n",
       "}\n",
       "\n",
       "#sk-container-id-1 input.sk-toggleable__control:checked~div.sk-toggleable__content {\n",
       "  /* Expand drop-down */\n",
       "  max-height: 200px;\n",
       "  max-width: 100%;\n",
       "  overflow: auto;\n",
       "}\n",
       "\n",
       "#sk-container-id-1 input.sk-toggleable__control:checked~label.sk-toggleable__label-arrow:before {\n",
       "  content: \"▾\";\n",
       "}\n",
       "\n",
       "/* Pipeline/ColumnTransformer-specific style */\n",
       "\n",
       "#sk-container-id-1 div.sk-label input.sk-toggleable__control:checked~label.sk-toggleable__label {\n",
       "  color: var(--sklearn-color-text);\n",
       "  background-color: var(--sklearn-color-unfitted-level-2);\n",
       "}\n",
       "\n",
       "#sk-container-id-1 div.sk-label.fitted input.sk-toggleable__control:checked~label.sk-toggleable__label {\n",
       "  background-color: var(--sklearn-color-fitted-level-2);\n",
       "}\n",
       "\n",
       "/* Estimator-specific style */\n",
       "\n",
       "/* Colorize estimator box */\n",
       "#sk-container-id-1 div.sk-estimator input.sk-toggleable__control:checked~label.sk-toggleable__label {\n",
       "  /* unfitted */\n",
       "  background-color: var(--sklearn-color-unfitted-level-2);\n",
       "}\n",
       "\n",
       "#sk-container-id-1 div.sk-estimator.fitted input.sk-toggleable__control:checked~label.sk-toggleable__label {\n",
       "  /* fitted */\n",
       "  background-color: var(--sklearn-color-fitted-level-2);\n",
       "}\n",
       "\n",
       "#sk-container-id-1 div.sk-label label.sk-toggleable__label,\n",
       "#sk-container-id-1 div.sk-label label {\n",
       "  /* The background is the default theme color */\n",
       "  color: var(--sklearn-color-text-on-default-background);\n",
       "}\n",
       "\n",
       "/* On hover, darken the color of the background */\n",
       "#sk-container-id-1 div.sk-label:hover label.sk-toggleable__label {\n",
       "  color: var(--sklearn-color-text);\n",
       "  background-color: var(--sklearn-color-unfitted-level-2);\n",
       "}\n",
       "\n",
       "/* Label box, darken color on hover, fitted */\n",
       "#sk-container-id-1 div.sk-label.fitted:hover label.sk-toggleable__label.fitted {\n",
       "  color: var(--sklearn-color-text);\n",
       "  background-color: var(--sklearn-color-fitted-level-2);\n",
       "}\n",
       "\n",
       "/* Estimator label */\n",
       "\n",
       "#sk-container-id-1 div.sk-label label {\n",
       "  font-family: monospace;\n",
       "  font-weight: bold;\n",
       "  display: inline-block;\n",
       "  line-height: 1.2em;\n",
       "}\n",
       "\n",
       "#sk-container-id-1 div.sk-label-container {\n",
       "  text-align: center;\n",
       "}\n",
       "\n",
       "/* Estimator-specific */\n",
       "#sk-container-id-1 div.sk-estimator {\n",
       "  font-family: monospace;\n",
       "  border: 1px dotted var(--sklearn-color-border-box);\n",
       "  border-radius: 0.25em;\n",
       "  box-sizing: border-box;\n",
       "  margin-bottom: 0.5em;\n",
       "  /* unfitted */\n",
       "  background-color: var(--sklearn-color-unfitted-level-0);\n",
       "}\n",
       "\n",
       "#sk-container-id-1 div.sk-estimator.fitted {\n",
       "  /* fitted */\n",
       "  background-color: var(--sklearn-color-fitted-level-0);\n",
       "}\n",
       "\n",
       "/* on hover */\n",
       "#sk-container-id-1 div.sk-estimator:hover {\n",
       "  /* unfitted */\n",
       "  background-color: var(--sklearn-color-unfitted-level-2);\n",
       "}\n",
       "\n",
       "#sk-container-id-1 div.sk-estimator.fitted:hover {\n",
       "  /* fitted */\n",
       "  background-color: var(--sklearn-color-fitted-level-2);\n",
       "}\n",
       "\n",
       "/* Specification for estimator info (e.g. \"i\" and \"?\") */\n",
       "\n",
       "/* Common style for \"i\" and \"?\" */\n",
       "\n",
       ".sk-estimator-doc-link,\n",
       "a:link.sk-estimator-doc-link,\n",
       "a:visited.sk-estimator-doc-link {\n",
       "  float: right;\n",
       "  font-size: smaller;\n",
       "  line-height: 1em;\n",
       "  font-family: monospace;\n",
       "  background-color: var(--sklearn-color-background);\n",
       "  border-radius: 1em;\n",
       "  height: 1em;\n",
       "  width: 1em;\n",
       "  text-decoration: none !important;\n",
       "  margin-left: 1ex;\n",
       "  /* unfitted */\n",
       "  border: var(--sklearn-color-unfitted-level-1) 1pt solid;\n",
       "  color: var(--sklearn-color-unfitted-level-1);\n",
       "}\n",
       "\n",
       ".sk-estimator-doc-link.fitted,\n",
       "a:link.sk-estimator-doc-link.fitted,\n",
       "a:visited.sk-estimator-doc-link.fitted {\n",
       "  /* fitted */\n",
       "  border: var(--sklearn-color-fitted-level-1) 1pt solid;\n",
       "  color: var(--sklearn-color-fitted-level-1);\n",
       "}\n",
       "\n",
       "/* On hover */\n",
       "div.sk-estimator:hover .sk-estimator-doc-link:hover,\n",
       ".sk-estimator-doc-link:hover,\n",
       "div.sk-label-container:hover .sk-estimator-doc-link:hover,\n",
       ".sk-estimator-doc-link:hover {\n",
       "  /* unfitted */\n",
       "  background-color: var(--sklearn-color-unfitted-level-3);\n",
       "  color: var(--sklearn-color-background);\n",
       "  text-decoration: none;\n",
       "}\n",
       "\n",
       "div.sk-estimator.fitted:hover .sk-estimator-doc-link.fitted:hover,\n",
       ".sk-estimator-doc-link.fitted:hover,\n",
       "div.sk-label-container:hover .sk-estimator-doc-link.fitted:hover,\n",
       ".sk-estimator-doc-link.fitted:hover {\n",
       "  /* fitted */\n",
       "  background-color: var(--sklearn-color-fitted-level-3);\n",
       "  color: var(--sklearn-color-background);\n",
       "  text-decoration: none;\n",
       "}\n",
       "\n",
       "/* Span, style for the box shown on hovering the info icon */\n",
       ".sk-estimator-doc-link span {\n",
       "  display: none;\n",
       "  z-index: 9999;\n",
       "  position: relative;\n",
       "  font-weight: normal;\n",
       "  right: .2ex;\n",
       "  padding: .5ex;\n",
       "  margin: .5ex;\n",
       "  width: min-content;\n",
       "  min-width: 20ex;\n",
       "  max-width: 50ex;\n",
       "  color: var(--sklearn-color-text);\n",
       "  box-shadow: 2pt 2pt 4pt #999;\n",
       "  /* unfitted */\n",
       "  background: var(--sklearn-color-unfitted-level-0);\n",
       "  border: .5pt solid var(--sklearn-color-unfitted-level-3);\n",
       "}\n",
       "\n",
       ".sk-estimator-doc-link.fitted span {\n",
       "  /* fitted */\n",
       "  background: var(--sklearn-color-fitted-level-0);\n",
       "  border: var(--sklearn-color-fitted-level-3);\n",
       "}\n",
       "\n",
       ".sk-estimator-doc-link:hover span {\n",
       "  display: block;\n",
       "}\n",
       "\n",
       "/* \"?\"-specific style due to the `<a>` HTML tag */\n",
       "\n",
       "#sk-container-id-1 a.estimator_doc_link {\n",
       "  float: right;\n",
       "  font-size: 1rem;\n",
       "  line-height: 1em;\n",
       "  font-family: monospace;\n",
       "  background-color: var(--sklearn-color-background);\n",
       "  border-radius: 1rem;\n",
       "  height: 1rem;\n",
       "  width: 1rem;\n",
       "  text-decoration: none;\n",
       "  /* unfitted */\n",
       "  color: var(--sklearn-color-unfitted-level-1);\n",
       "  border: var(--sklearn-color-unfitted-level-1) 1pt solid;\n",
       "}\n",
       "\n",
       "#sk-container-id-1 a.estimator_doc_link.fitted {\n",
       "  /* fitted */\n",
       "  border: var(--sklearn-color-fitted-level-1) 1pt solid;\n",
       "  color: var(--sklearn-color-fitted-level-1);\n",
       "}\n",
       "\n",
       "/* On hover */\n",
       "#sk-container-id-1 a.estimator_doc_link:hover {\n",
       "  /* unfitted */\n",
       "  background-color: var(--sklearn-color-unfitted-level-3);\n",
       "  color: var(--sklearn-color-background);\n",
       "  text-decoration: none;\n",
       "}\n",
       "\n",
       "#sk-container-id-1 a.estimator_doc_link.fitted:hover {\n",
       "  /* fitted */\n",
       "  background-color: var(--sklearn-color-fitted-level-3);\n",
       "}\n",
       "</style><div id=\"sk-container-id-1\" class=\"sk-top-container\"><div class=\"sk-text-repr-fallback\"><pre>KMeans(max_iter=100, n_clusters=3, n_init=1)</pre><b>In a Jupyter environment, please rerun this cell to show the HTML representation or trust the notebook. <br />On GitHub, the HTML representation is unable to render, please try loading this page with nbviewer.org.</b></div><div class=\"sk-container\" hidden><div class=\"sk-item\"><div class=\"sk-estimator fitted sk-toggleable\"><input class=\"sk-toggleable__control sk-hidden--visually\" id=\"sk-estimator-id-1\" type=\"checkbox\" checked><label for=\"sk-estimator-id-1\" class=\"sk-toggleable__label fitted sk-toggleable__label-arrow fitted\">&nbsp;&nbsp;KMeans<a class=\"sk-estimator-doc-link fitted\" rel=\"noreferrer\" target=\"_blank\" href=\"https://scikit-learn.org/1.4/modules/generated/sklearn.cluster.KMeans.html\">?<span>Documentation for KMeans</span></a><span class=\"sk-estimator-doc-link fitted\">i<span>Fitted</span></span></label><div class=\"sk-toggleable__content fitted\"><pre>KMeans(max_iter=100, n_clusters=3, n_init=1)</pre></div> </div></div></div></div>"
      ],
      "text/plain": [
       "KMeans(max_iter=100, n_clusters=3, n_init=1)"
      ]
     },
     "execution_count": 48,
     "metadata": {},
     "output_type": "execute_result"
    }
   ],
   "source": [
    "k=3\n",
    "model = KMeans(n_clusters=k, init='k-means++', max_iter=100, n_init=1)\n",
    "model.fit(features)"
   ]
  },
  {
   "cell_type": "code",
   "execution_count": 56,
   "id": "9eab6736-e928-4c96-ad98-3ae8cc37fd5a",
   "metadata": {},
   "outputs": [
    {
     "data": {
      "text/plain": [
       "0       2\n",
       "1       1\n",
       "2       1\n",
       "3       1\n",
       "4       0\n",
       "       ..\n",
       "1473    2\n",
       "1474    1\n",
       "1475    2\n",
       "1476    1\n",
       "1477    2\n",
       "Length: 1478, dtype: int32"
      ]
     },
     "execution_count": 56,
     "metadata": {},
     "output_type": "execute_result"
    }
   ],
   "source": [
    "cluster_data_labels=pd.Series(model.labels_)\n",
    "cluster_data_labels"
   ]
  },
  {
   "cell_type": "code",
   "execution_count": 57,
   "id": "67e52166-d85c-4c20-bdca-7b7b5445ff6f",
   "metadata": {},
   "outputs": [],
   "source": [
    "df['review_sentiment_lables']=cluster_data_labels"
   ]
  },
  {
   "cell_type": "code",
   "execution_count": 69,
   "id": "27c87700-26cd-4c31-ae8d-b8366d3f5b0e",
   "metadata": {},
   "outputs": [
    {
     "data": {
      "text/plain": [
       "0                                                                                                                                                                                                                                                                                                                                                                                                                                                                                                                                                                                                                                                                                                                                                                                                                                                                                                                                                                                                                                                                                                                                                                                                                                                                                                                                                                                                                                                      just upgraded from i5 9400f to i9 14900k and super happy with the performance that i am able to achieve  it simply works buttery smooth  large applications open like notepad apps   it heats a lot though so i went with msi coreliquid liquid cooling solution   if looking to upgrade from 13th gen then save money because the performance is identical  however if setting up new pc then definitely go with it   my setup   msi mpg z790 carbon wifi intel i9 14900k msi rtx 4070ti msi mag coreliquid liquid cooler samsung 980 pro   1 tb ripjaws 32gb ddr5  bonus tip  if u are struck setting up ur pc then go to msi support and they are super responsive to assist you  i got my wiring fixed in matter of minutes ona video call by their assistant \n",
       "5                                                                                                                                                                                                                                                                                                                                                                                                                                                                                                                                                                                                                                                                                                                                                                                                                                                                                                                                                                                                                                                                                                                                                                                                                                                                                                                        this processor is a real power that will meet the needs of gamers  professional users and those who seek maximum performance on their pc with a basic frequency of 3 6 ghz and a maximum boost frequency of 5 0 ghz allows you to effectively manage heavy workloads  making it ideal for activities such as video rendering  gaming and multimedia production for the most demanding gamers  the core ™ i7 14700kf offers extraordinary graphic performance thanks to compatibility with the most recent graphics cards and advanced technologies such as the intel® deep learning boost  which improves the performance of artificial intelligence in games and in thevirtual reality applications personally  i also do a lot of video editing and i have never encountered problems or slowdowns with davinci resolve or premiere altino price but unfortunately today the prices are these \n",
       "8     so far so good  this cpu is a monster and runs very nicely and boosts to max clocks  6ghz on two cores and 5 7ghz on all cores  unlimited tdp settings but thermally limited at 90c with  60mv offset  i have noticed that it runs a bit cooler than my previous 13900kf  especially when you consider the core to core deltas  i use my pc mostly for gaming and encoding  so as long as you have a great case with plenty of air flow and a top notch cooler  you can easily run it air cooled without issues as it will just throttle itself when it hits whatever thermal maximum you set in the uefi bios   in gaming workloads it never throttles though and stays at 5 7ghz all core boost the entire time with temps in cpu intensive games anywhere from the upper 50s to mid 60s and upper 40s to mid 50s in non cpu intensive games    update    i have the cpu now at 5 8ghz with ht disabled and a  75mv offset and it s working like a charm and very stable in gaming workloads and encoding  it downclocks when it hits 90c for encoding workloads but for gaming it stays at 5 8ghz   which is amazing since it s on an air cooled setup  though the setup is as optimal as it gets for air cooling  as for temps  they are a little lower than running it at 5 7ghz with ht enabled and a  50mv offset  if i use a  75mv offset with 5 8ghz and ht enabled  my pc crashes  so disabling ht definitely enables the cpu to use less power   if you re predominantly using your machine for gaming  then i definitely recommend turning ht off regardless as most games tend to run better with ht disabled  but if you re using it for productivity or a blend of both productivity and gaming  then definitely turn ht on   the only mildly disappointing thing for me is that the memory controller isn t as good as i thought it would be  mine runs 48gb ddr5 7400 cl34 at 1 35v on the imc  but to hit ddr5 7600 cl36 with stability i need to increase the imc voltage to 1 41v which just isn t worth it if you ask me for such a minor bump in performance  my previous 13900kf could do 48gb ddr5 7800 at 1 36v on the imc   core wise though  the cpu is definitely superior to 13th gen \n",
       "10                                                                                                                                                                                                                                                                                                                                                                                                                                                                                                                                                                                                                                                                                                                                                                                                                                                                                                                                                                                                                                                                                                                                                                                                                                                                                                                                                                                                                                                                                                                                                                                                                                                                                                                                                                                                                                                                                                                                                                                                                                                                                                                                                  used for 3d rendering  solid and fast  i am very happy with this cpu \n",
       "11                                                                                                                                                                                                                                                                                                                                                                                                                                                                                                                                                                                                                                                                                                                                                                                                                                                                                                                                                                                                                                                                                                                                                                                                                                                                                                                                                                                                                                                                                                                                                  the intel i9 14900k is an impressive further development of the i9 12900kf the noticeable increase in performance that i have experienced is remarkable and shows the progress in technology the combination with the asus apex encore and the fast 7200 mhz ram delivers great results  after all  i was able to achieve 41 000 points in the cinebench r23 without overclocking the combination offers a solid basis for demanding tasks and gaming however  one should note that the exact performance can vary depending on the application overall  the i9 14900k seems to be a worthwhile investment  even if you were previously owned by the 12th generation \n",
       "Name: trans_review, dtype: object"
      ]
     },
     "execution_count": 69,
     "metadata": {},
     "output_type": "execute_result"
    }
   ],
   "source": [
    "#checking 5 reviews for each label to see if the classification makes sense\n",
    "df[df['review_sentiment_lables']== 2].iloc[0:5,5]"
   ]
  },
  {
   "cell_type": "code",
   "execution_count": 70,
   "id": "f452d045-4d2e-4a12-a017-6c691b1dc8f8",
   "metadata": {},
   "outputs": [
    {
     "data": {
      "text/plain": [
       "1                                                                                                                                                                                                                                                                                                   i don t liked the price of it   i also don t liked the performance of it   rather you can purchase i9 13th generation\n",
       "2                                                                                                                                                                                                                                                                                                                         good processor that gives you to be able to play and perform office work  video rendering  etc \n",
       "3                                                                                                                                                                                                                                                                                                                                                              it s early to do anything as expected i am very satisfied \n",
       "6    good surprise on the power of this processor is a monster of power crucial point  it heats a lot i had to put an aio in 420mm to correctly cool the processor second point  it consumes a lot you always have the possibility of paying a maximum of 125 watts in your bios to deal with this  loss of 4 8   perf  honestly  if you are a gamer and you don t need raw power  turn to an i5  it will make the trick \n",
       "7                                                                                                                                                                                                                                                                                                                                                                                     fast shipping  works as advertised \n",
       "Name: trans_review, dtype: object"
      ]
     },
     "execution_count": 70,
     "metadata": {},
     "output_type": "execute_result"
    }
   ],
   "source": [
    "df[df['review_sentiment_lables']== 1].iloc[0:5,5]"
   ]
  },
  {
   "cell_type": "code",
   "execution_count": 72,
   "id": "09db0bc3-a362-45b7-b63c-44bdad757e98",
   "metadata": {},
   "outputs": [
    {
     "data": {
      "text/plain": [
       "4                             good decision for my computer\n",
       "16     very good processor  but needs a good refrigeration \n",
       "30                                               very good \n",
       "91                                                     good\n",
       "104                       very good price performance ratio\n",
       "Name: trans_review, dtype: object"
      ]
     },
     "execution_count": 72,
     "metadata": {},
     "output_type": "execute_result"
    }
   ],
   "source": [
    "df[df['review_sentiment_lables']== 0].iloc[0:5,5]"
   ]
  },
  {
   "cell_type": "code",
   "execution_count": 73,
   "id": "5dcf8917-c780-4c0d-804e-614cd18d1265",
   "metadata": {},
   "outputs": [
    {
     "data": {
      "text/plain": [
       "0       1\n",
       "1       1\n",
       "2       1\n",
       "3       1\n",
       "4       0\n",
       "       ..\n",
       "1473    1\n",
       "1474    1\n",
       "1475    1\n",
       "1476    1\n",
       "1477    1\n",
       "Length: 1478, dtype: int32"
      ]
     },
     "execution_count": 73,
     "metadata": {},
     "output_type": "execute_result"
    }
   ],
   "source": [
    "#k means clustering doesnt see to have worked  , the difference is not see with the classification, now trying with k = 2\n",
    "k=2\n",
    "model = KMeans(n_clusters=k, init='k-means++', max_iter=100, n_init=1)\n",
    "model.fit(features)\n",
    "cluster_data_labels=pd.Series(model.labels_)\n",
    "cluster_data_labels"
   ]
  },
  {
   "cell_type": "code",
   "execution_count": 74,
   "id": "aa6176c4-da7a-412a-b1a9-4063be0d4799",
   "metadata": {},
   "outputs": [],
   "source": [
    "df['review_sentiment_lables_k2']=cluster_data_labels"
   ]
  },
  {
   "cell_type": "code",
   "execution_count": 76,
   "id": "daafcd9b-7ff7-42ce-a3ea-60e3502a7e30",
   "metadata": {},
   "outputs": [
    {
     "data": {
      "text/plain": [
       "0                                                                                                                                  just upgraded from i5 9400f to i9 14900k and super happy with the performance that i am able to achieve  it simply works buttery smooth  large applications open like notepad apps   it heats a lot though so i went with msi coreliquid liquid cooling solution   if looking to upgrade from 13th gen then save money because the performance is identical  however if setting up new pc then definitely go with it   my setup   msi mpg z790 carbon wifi intel i9 14900k msi rtx 4070ti msi mag coreliquid liquid cooler samsung 980 pro   1 tb ripjaws 32gb ddr5  bonus tip  if u are struck setting up ur pc then go to msi support and they are super responsive to assist you  i got my wiring fixed in matter of minutes ona video call by their assistant \n",
       "1                                                                                                                                                                                                                                                                                                                                                                                                                                                                                                                                                                                                                                                                                                                                                                               i don t liked the price of it   i also don t liked the performance of it   rather you can purchase i9 13th generation\n",
       "2                                                                                                                                                                                                                                                                                                                                                                                                                                                                                                                                                                                                                                                                                                                                                                                                     good processor that gives you to be able to play and perform office work  video rendering  etc \n",
       "3                                                                                                                                                                                                                                                                                                                                                                                                                                                                                                                                                                                                                                                                                                                                                                                                                                          it s early to do anything as expected i am very satisfied \n",
       "5    this processor is a real power that will meet the needs of gamers  professional users and those who seek maximum performance on their pc with a basic frequency of 3 6 ghz and a maximum boost frequency of 5 0 ghz allows you to effectively manage heavy workloads  making it ideal for activities such as video rendering  gaming and multimedia production for the most demanding gamers  the core ™ i7 14700kf offers extraordinary graphic performance thanks to compatibility with the most recent graphics cards and advanced technologies such as the intel® deep learning boost  which improves the performance of artificial intelligence in games and in thevirtual reality applications personally  i also do a lot of video editing and i have never encountered problems or slowdowns with davinci resolve or premiere altino price but unfortunately today the prices are these \n",
       "Name: trans_review, dtype: object"
      ]
     },
     "execution_count": 76,
     "metadata": {},
     "output_type": "execute_result"
    }
   ],
   "source": [
    "#checking 5 reviews for each label to see if the classification makes sense\n",
    "df[df['review_sentiment_lables_k2']== 1].iloc[0:5,5]"
   ]
  },
  {
   "cell_type": "code",
   "execution_count": 77,
   "id": "6a52df6d-0613-4aac-9843-6f15b66b686f",
   "metadata": {},
   "outputs": [
    {
     "data": {
      "text/plain": [
       "4                                              good decision for my computer\n",
       "16                      very good processor  but needs a good refrigeration \n",
       "30                                                                very good \n",
       "91                                                                      good\n",
       "92    good processor  have a background check about who is selling you this \n",
       "Name: trans_review, dtype: object"
      ]
     },
     "execution_count": 77,
     "metadata": {},
     "output_type": "execute_result"
    }
   ],
   "source": [
    "df[df['review_sentiment_lables_k2']== 0].iloc[0:5,5]"
   ]
  },
  {
   "cell_type": "code",
   "execution_count": 78,
   "id": "2b506393-b4be-414f-9842-d2c198ae0f44",
   "metadata": {},
   "outputs": [
    {
     "ename": "SyntaxError",
     "evalue": "invalid syntax (3872961742.py, line 1)",
     "output_type": "error",
     "traceback": [
      "\u001b[1;36m  Cell \u001b[1;32mIn[78], line 1\u001b[1;36m\u001b[0m\n\u001b[1;33m    The the clusters have formed based on the length of the text rathere than the sentiment, so this doesnt seem to be working\u001b[0m\n\u001b[1;37m        ^\u001b[0m\n\u001b[1;31mSyntaxError\u001b[0m\u001b[1;31m:\u001b[0m invalid syntax\n"
     ]
    }
   ],
   "source": [
    "#The the clusters have formed based on the length of the text rathere than the sentiment, so this doesnt seem to be working\n",
    "\n"
   ]
  }
 ],
 "metadata": {
  "kernelspec": {
   "display_name": "Python 3 (ipykernel)",
   "language": "python",
   "name": "python3"
  },
  "language_info": {
   "codemirror_mode": {
    "name": "ipython",
    "version": 3
   },
   "file_extension": ".py",
   "mimetype": "text/x-python",
   "name": "python",
   "nbconvert_exporter": "python",
   "pygments_lexer": "ipython3",
   "version": "3.12.3"
  }
 },
 "nbformat": 4,
 "nbformat_minor": 5
}
